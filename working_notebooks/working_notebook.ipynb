{
 "cells": [
  {
   "cell_type": "markdown",
   "metadata": {},
   "source": [
    "# Business Problem\n",
    "We are customer satisfaction consultants retained by BaceFook to gauge the community’s reception to new functionality they are adding to their app. While BaceFook has great relationships with their largest enterprise customers, their app is used by individuals across the world. They need a reliable way to understand how individuals and small companies are responding to the new functionality without directly contacting each one.\n",
    "\n",
    "Our understanding is that the development team feels their new features could be controversial. While they are aimed at making the app more appealing to enterprise customers, there was some concern during the development process that additional options might overwhelm existing users. The company closely monitors new installs of their app, so the impact of new features on new users is something they feel they have a good handle on. As a result, we will limit our review to community response as a whole.\n",
    "\n",
    "We will use natural language processing on a tweet dataset in order to train our model to recognize emotion expressed in the tweets. Once Bacefook’s new functionality is released, we can feed new tweet information that mentions the app to our model and help the company understand how individuals are receiving the new functionality.\n"
   ]
  },
  {
   "cell_type": "code",
   "execution_count": null,
   "metadata": {},
   "outputs": [],
   "source": []
  },
  {
   "cell_type": "markdown",
   "metadata": {},
   "source": [
    "## Todos\n",
    "\n",
    "Finalize/save off clean data \n",
    "- sep notebook?\n",
    "- stopwords \n",
    "- POS Tagging\n",
    "- Think about train/test split change\n",
    "- bigrams\n",
    "\n",
    "From each class:\n",
    "- word cloud\n",
    "- example tweets\n",
    "\n",
    "Address class imbalance\n",
    "- smote **\n",
    "\n",
    "pipelines\n",
    " - smote? **\n",
    " - Vectorizer **\n",
    " - transformer **\n",
    " - model **\n",
    " - KNN **\n",
    " - XGBoost\n",
    " \n",
    "Grid Searches\n",
    " - RF **\n",
    " - GBC **\n",
    " \n",
    "Advanced Modeling\n",
    "- NN?\n",
    "- Spacy for class imbalance?"
   ]
  },
  {
   "cell_type": "markdown",
   "metadata": {},
   "source": [
    "# Questions:\n",
    "Dummy Classifier is misbehaving. seems like it's always predicting the minority class?\n",
    "\n",
    "Intuition is maybe we have problems in our data still\n"
   ]
  },
  {
   "cell_type": "markdown",
   "metadata": {},
   "source": [
    "# Data Understanding\n",
    "Our dataset includes 9,092 tweets about multiple brands and products. The tweets were labeled as positive, negative, neutral or not sure by contributors based on the sentiment that the user expressed about the product or products being discussed in the tweet. We elected to drop the 156 “not sure” tweets from our dataset since they accounted for less than 2% of the overall population. Most of the products being discussed are related to mobile devices and applications for those mobile devices, making the data well-suited for training a model on how users express sentiment for these types of products.\n",
    "\n",
    "The data contains a significant class imbalance, with only 4.5% (411 tweets) classified as negative and only 33% (2,978 tweets) classified as positive. The remaining 62.5% (5,388 tweets) were neutral, which will require us to address class imbalance before running our models. In addition, the dataset is relatively small for a complex problem like sentiment analysis and may be unduly influenced by very active tweeters. \n"
   ]
  },
  {
   "cell_type": "code",
   "execution_count": 2,
   "metadata": {},
   "outputs": [],
   "source": [
    "# Import Modules\n",
    "import pandas as pd\n",
    "import numpy as np\n",
    "import matplotlib.pyplot as plt\n",
    "import re\n",
    "import string\n",
    "from pprint import pprint\n",
    "import nltk\n",
    "from wordcloud import WordCloud\n",
    "from sklearn.preprocessing import LabelEncoder\n",
    "from matplotlib.ticker import MaxNLocator\n",
    "from nltk.probability import FreqDist\n",
    "from nltk.corpus import stopwords, wordnet\n",
    "from nltk import FreqDist\n",
    "from nltk.tokenize import regexp_tokenize, word_tokenize, RegexpTokenizer\n",
    "from nltk import tokenize as tok\n",
    "from nltk.stem import WordNetLemmatizer\n",
    "from sklearn.feature_extraction.text import TfidfVectorizer, CountVectorizer, TfidfTransformer\n",
    "from sklearn.model_selection import train_test_split, GridSearchCV, cross_val_score\n",
    "\n",
    "from sklearn.dummy import DummyClassifier\n",
    "from sklearn.naive_bayes import MultinomialNB\n",
    "from sklearn.ensemble import RandomForestClassifier, GradientBoostingClassifier\n",
    "from sklearn.linear_model import SGDClassifier, LogisticRegression\n",
    "from sklearn.neighbors import KNeighborsClassifier\n",
    "from sklearn.metrics import plot_confusion_matrix, confusion_matrix, recall_score, accuracy_score, precision_score, f1_score, classification_report\n",
    "from sklearn.pipeline import Pipeline\n",
    "from imblearn.over_sampling import SMOTE\n",
    "from imblearn.pipeline import Pipeline as ImPipeline\n",
    "from sklearn.metrics import make_scorer"
   ]
  },
  {
   "cell_type": "code",
   "execution_count": 3,
   "metadata": {},
   "outputs": [],
   "source": [
    "df = pd.read_csv('../data/judge-1377884607_tweet_product_company.csv', encoding= 'unicode_escape')"
   ]
  },
  {
   "cell_type": "code",
   "execution_count": 4,
   "metadata": {},
   "outputs": [
    {
     "name": "stdout",
     "output_type": "stream",
     "text": [
      "<class 'pandas.core.frame.DataFrame'>\n",
      "RangeIndex: 9093 entries, 0 to 9092\n",
      "Data columns (total 3 columns):\n",
      " #   Column                                              Non-Null Count  Dtype \n",
      "---  ------                                              --------------  ----- \n",
      " 0   tweet_text                                          9092 non-null   object\n",
      " 1   emotion_in_tweet_is_directed_at                     3291 non-null   object\n",
      " 2   is_there_an_emotion_directed_at_a_brand_or_product  9093 non-null   object\n",
      "dtypes: object(3)\n",
      "memory usage: 213.2+ KB\n"
     ]
    }
   ],
   "source": [
    "df.info()"
   ]
  },
  {
   "cell_type": "code",
   "execution_count": 5,
   "metadata": {},
   "outputs": [
    {
     "data": {
      "text/html": [
       "<div>\n",
       "<style scoped>\n",
       "    .dataframe tbody tr th:only-of-type {\n",
       "        vertical-align: middle;\n",
       "    }\n",
       "\n",
       "    .dataframe tbody tr th {\n",
       "        vertical-align: top;\n",
       "    }\n",
       "\n",
       "    .dataframe thead th {\n",
       "        text-align: right;\n",
       "    }\n",
       "</style>\n",
       "<table border=\"1\" class=\"dataframe\">\n",
       "  <thead>\n",
       "    <tr style=\"text-align: right;\">\n",
       "      <th></th>\n",
       "      <th>tweet_text</th>\n",
       "      <th>emotion_in_tweet_is_directed_at</th>\n",
       "      <th>is_there_an_emotion_directed_at_a_brand_or_product</th>\n",
       "    </tr>\n",
       "  </thead>\n",
       "  <tbody>\n",
       "    <tr>\n",
       "      <th>0</th>\n",
       "      <td>.@wesley83 I have a 3G iPhone. After 3 hrs twe...</td>\n",
       "      <td>iPhone</td>\n",
       "      <td>Negative emotion</td>\n",
       "    </tr>\n",
       "    <tr>\n",
       "      <th>1</th>\n",
       "      <td>@jessedee Know about @fludapp ? Awesome iPad/i...</td>\n",
       "      <td>iPad or iPhone App</td>\n",
       "      <td>Positive emotion</td>\n",
       "    </tr>\n",
       "    <tr>\n",
       "      <th>2</th>\n",
       "      <td>@swonderlin Can not wait for #iPad 2 also. The...</td>\n",
       "      <td>iPad</td>\n",
       "      <td>Positive emotion</td>\n",
       "    </tr>\n",
       "    <tr>\n",
       "      <th>3</th>\n",
       "      <td>@sxsw I hope this year's festival isn't as cra...</td>\n",
       "      <td>iPad or iPhone App</td>\n",
       "      <td>Negative emotion</td>\n",
       "    </tr>\n",
       "    <tr>\n",
       "      <th>4</th>\n",
       "      <td>@sxtxstate great stuff on Fri #SXSW: Marissa M...</td>\n",
       "      <td>Google</td>\n",
       "      <td>Positive emotion</td>\n",
       "    </tr>\n",
       "    <tr>\n",
       "      <th>5</th>\n",
       "      <td>@teachntech00 New iPad Apps For #SpeechTherapy...</td>\n",
       "      <td>NaN</td>\n",
       "      <td>No emotion toward brand or product</td>\n",
       "    </tr>\n",
       "    <tr>\n",
       "      <th>6</th>\n",
       "      <td>NaN</td>\n",
       "      <td>NaN</td>\n",
       "      <td>No emotion toward brand or product</td>\n",
       "    </tr>\n",
       "    <tr>\n",
       "      <th>7</th>\n",
       "      <td>#SXSW is just starting, #CTIA is around the co...</td>\n",
       "      <td>Android</td>\n",
       "      <td>Positive emotion</td>\n",
       "    </tr>\n",
       "    <tr>\n",
       "      <th>8</th>\n",
       "      <td>Beautifully smart and simple idea RT @madebyma...</td>\n",
       "      <td>iPad or iPhone App</td>\n",
       "      <td>Positive emotion</td>\n",
       "    </tr>\n",
       "    <tr>\n",
       "      <th>9</th>\n",
       "      <td>Counting down the days to #sxsw plus strong Ca...</td>\n",
       "      <td>Apple</td>\n",
       "      <td>Positive emotion</td>\n",
       "    </tr>\n",
       "  </tbody>\n",
       "</table>\n",
       "</div>"
      ],
      "text/plain": [
       "                                          tweet_text  \\\n",
       "0  .@wesley83 I have a 3G iPhone. After 3 hrs twe...   \n",
       "1  @jessedee Know about @fludapp ? Awesome iPad/i...   \n",
       "2  @swonderlin Can not wait for #iPad 2 also. The...   \n",
       "3  @sxsw I hope this year's festival isn't as cra...   \n",
       "4  @sxtxstate great stuff on Fri #SXSW: Marissa M...   \n",
       "5  @teachntech00 New iPad Apps For #SpeechTherapy...   \n",
       "6                                                NaN   \n",
       "7  #SXSW is just starting, #CTIA is around the co...   \n",
       "8  Beautifully smart and simple idea RT @madebyma...   \n",
       "9  Counting down the days to #sxsw plus strong Ca...   \n",
       "\n",
       "  emotion_in_tweet_is_directed_at  \\\n",
       "0                          iPhone   \n",
       "1              iPad or iPhone App   \n",
       "2                            iPad   \n",
       "3              iPad or iPhone App   \n",
       "4                          Google   \n",
       "5                             NaN   \n",
       "6                             NaN   \n",
       "7                         Android   \n",
       "8              iPad or iPhone App   \n",
       "9                           Apple   \n",
       "\n",
       "  is_there_an_emotion_directed_at_a_brand_or_product  \n",
       "0                                   Negative emotion  \n",
       "1                                   Positive emotion  \n",
       "2                                   Positive emotion  \n",
       "3                                   Negative emotion  \n",
       "4                                   Positive emotion  \n",
       "5                 No emotion toward brand or product  \n",
       "6                 No emotion toward brand or product  \n",
       "7                                   Positive emotion  \n",
       "8                                   Positive emotion  \n",
       "9                                   Positive emotion  "
      ]
     },
     "execution_count": 5,
     "metadata": {},
     "output_type": "execute_result"
    }
   ],
   "source": [
    "df.head(10)"
   ]
  },
  {
   "cell_type": "code",
   "execution_count": 6,
   "metadata": {},
   "outputs": [
    {
     "data": {
      "text/html": [
       "<div>\n",
       "<style scoped>\n",
       "    .dataframe tbody tr th:only-of-type {\n",
       "        vertical-align: middle;\n",
       "    }\n",
       "\n",
       "    .dataframe tbody tr th {\n",
       "        vertical-align: top;\n",
       "    }\n",
       "\n",
       "    .dataframe thead th {\n",
       "        text-align: right;\n",
       "    }\n",
       "</style>\n",
       "<table border=\"1\" class=\"dataframe\">\n",
       "  <thead>\n",
       "    <tr style=\"text-align: right;\">\n",
       "      <th></th>\n",
       "      <th>tweet_text</th>\n",
       "      <th>emotion_in_tweet_is_directed_at</th>\n",
       "      <th>is_there_an_emotion_directed_at_a_brand_or_product</th>\n",
       "    </tr>\n",
       "  </thead>\n",
       "  <tbody>\n",
       "    <tr>\n",
       "      <th>9088</th>\n",
       "      <td>Ipad everywhere. #SXSW {link}</td>\n",
       "      <td>iPad</td>\n",
       "      <td>Positive emotion</td>\n",
       "    </tr>\n",
       "    <tr>\n",
       "      <th>9089</th>\n",
       "      <td>Wave, buzz... RT @mention We interrupt your re...</td>\n",
       "      <td>NaN</td>\n",
       "      <td>No emotion toward brand or product</td>\n",
       "    </tr>\n",
       "    <tr>\n",
       "      <th>9090</th>\n",
       "      <td>Google's Zeiger, a physician never reported po...</td>\n",
       "      <td>NaN</td>\n",
       "      <td>No emotion toward brand or product</td>\n",
       "    </tr>\n",
       "    <tr>\n",
       "      <th>9091</th>\n",
       "      <td>Some Verizon iPhone customers complained their...</td>\n",
       "      <td>NaN</td>\n",
       "      <td>No emotion toward brand or product</td>\n",
       "    </tr>\n",
       "    <tr>\n",
       "      <th>9092</th>\n",
       "      <td>Ï¡Ïàü_ÊÎÒ£Áââ_£â_ÛâRT @...</td>\n",
       "      <td>NaN</td>\n",
       "      <td>No emotion toward brand or product</td>\n",
       "    </tr>\n",
       "  </tbody>\n",
       "</table>\n",
       "</div>"
      ],
      "text/plain": [
       "                                             tweet_text  \\\n",
       "9088                      Ipad everywhere. #SXSW {link}   \n",
       "9089  Wave, buzz... RT @mention We interrupt your re...   \n",
       "9090  Google's Zeiger, a physician never reported po...   \n",
       "9091  Some Verizon iPhone customers complained their...   \n",
       "9092  Ï¡Ïàü_ÊÎÒ£Áââ_£â_ÛâRT @...   \n",
       "\n",
       "     emotion_in_tweet_is_directed_at  \\\n",
       "9088                            iPad   \n",
       "9089                             NaN   \n",
       "9090                             NaN   \n",
       "9091                             NaN   \n",
       "9092                             NaN   \n",
       "\n",
       "     is_there_an_emotion_directed_at_a_brand_or_product  \n",
       "9088                                   Positive emotion  \n",
       "9089                 No emotion toward brand or product  \n",
       "9090                 No emotion toward brand or product  \n",
       "9091                 No emotion toward brand or product  \n",
       "9092                 No emotion toward brand or product  "
      ]
     },
     "execution_count": 6,
     "metadata": {},
     "output_type": "execute_result"
    }
   ],
   "source": [
    "df.tail()"
   ]
  },
  {
   "cell_type": "code",
   "execution_count": 7,
   "metadata": {},
   "outputs": [],
   "source": [
    "# Dropped the sole blank tweet_text field\n",
    "df.drop(index=[6], inplace=True)"
   ]
  },
  {
   "cell_type": "code",
   "execution_count": 8,
   "metadata": {},
   "outputs": [
    {
     "data": {
      "text/plain": [
       "5801"
      ]
     },
     "execution_count": 8,
     "metadata": {},
     "output_type": "execute_result"
    }
   ],
   "source": [
    "df['emotion_in_tweet_is_directed_at'].isna().sum()"
   ]
  },
  {
   "cell_type": "code",
   "execution_count": 9,
   "metadata": {},
   "outputs": [
    {
     "data": {
      "text/plain": [
       "\"RT @mention RT @mention Can't be at #sxsw? download their free music mix on itunes {link} cc: @mention\""
      ]
     },
     "execution_count": 9,
     "metadata": {},
     "output_type": "execute_result"
    }
   ],
   "source": [
    "df[\"tweet_text\"][6520]"
   ]
  },
  {
   "cell_type": "code",
   "execution_count": 10,
   "metadata": {},
   "outputs": [
    {
     "data": {
      "text/plain": [
       "No emotion toward brand or product    5388\n",
       "Positive emotion                      2978\n",
       "Negative emotion                       570\n",
       "I can't tell                           156\n",
       "Name: is_there_an_emotion_directed_at_a_brand_or_product, dtype: int64"
      ]
     },
     "execution_count": 10,
     "metadata": {},
     "output_type": "execute_result"
    }
   ],
   "source": [
    "df['is_there_an_emotion_directed_at_a_brand_or_product'].value_counts()"
   ]
  },
  {
   "cell_type": "code",
   "execution_count": 11,
   "metadata": {},
   "outputs": [],
   "source": [
    "df_ict = df[df['is_there_an_emotion_directed_at_a_brand_or_product'] == \"I can't tell\"]"
   ]
  },
  {
   "cell_type": "code",
   "execution_count": 12,
   "metadata": {},
   "outputs": [],
   "source": [
    "# Dropped the records where sentiment was labeled \"I can't tell\"\n",
    "df = df[df['is_there_an_emotion_directed_at_a_brand_or_product'] != \"I can't tell\"]"
   ]
  },
  {
   "cell_type": "markdown",
   "metadata": {},
   "source": [
    "#### Preprocessing Data\n",
    "Effective natural language processing requires significant data modification and cleaning to allow the models to pick up on the meaning of the words they receive. In this section we will define several custom functions to assist with this process, as well as some custom regular expressions to help us filter out meaningless characters that are common in tweets (things like user handles, hashtags, and hyperlinks). We also lemmatized the data in order to avoid duplicate conjugations of words being treated differently by the code, and removed all punctuation.\n",
    "\n",
    "Finally, we removed stop words from the data. Stop words are common words that appear so frequently in text as to not carry any syntactic meaning. English examples include “the”, “a”, “an”, etc. and were removed using nltk’s built-in stopwords list. There are also several words that appear frequently in each of our three target classes, and as such begin to lose their meaning when training a model. We discuss this further in the Most Common Words section.\n"
   ]
  },
  {
   "cell_type": "code",
   "execution_count": 13,
   "metadata": {},
   "outputs": [],
   "source": [
    "# Create column for target variable for easier processing\n",
    "df['target'] = df['is_there_an_emotion_directed_at_a_brand_or_product']"
   ]
  },
  {
   "cell_type": "code",
   "execution_count": 14,
   "metadata": {},
   "outputs": [],
   "source": [
    "# Custom regular expressions utilized for cleaning tweet-specific features (retweets, user handles, etc.)\n",
    "# Credit to Prajwal @ https://gitlab.com/praj88/twitter-analytics/blob/master/scripts/twitter-analytics.ipynb\n",
    "\n",
    "# Identify hyperlinks in the subject data.\n",
    "isURL = re.compile(r'http[s]?:// (?:[a-z]|[0-9]|[$-_@.&+]|[!*\\(\\),]|(?:%[0-9a-f][0-9a-f]))+', re.VERBOSE | re.IGNORECASE)\n",
    "\n",
    "# Identify usernames in retweets.\n",
    "isRTusername = re.compile(r'^RT+[\\s]+(@[\\w_]+:)',re.VERBOSE | re.IGNORECASE) #r'^RT+[\\s]+(@[\\w_]+:)'\n",
    "\n",
    "# Identify entites preceded by the @ symbol (twitter handles).\n",
    "isEntity = re.compile(r'@[\\w_]+', re.VERBOSE | re.IGNORECASE)"
   ]
  },
  {
   "cell_type": "code",
   "execution_count": 15,
   "metadata": {},
   "outputs": [],
   "source": [
    "# Function to remove URLs, retweeted usernames and usernames from tweet data.\n",
    "def clean_tweet(row):\n",
    "    row = isURL.sub(\"\",row)\n",
    "    row = isRTusername.sub(\"\",row)\n",
    "    row = isEntity.sub(\"\",row)\n",
    "    return row"
   ]
  },
  {
   "cell_type": "code",
   "execution_count": 16,
   "metadata": {},
   "outputs": [],
   "source": [
    "# Created a new column containing the results of applying the clean_tweet function to the raw data.\n",
    "df['clean'] = df['tweet_text'].apply(lambda row:clean_tweet(row))"
   ]
  },
  {
   "cell_type": "code",
   "execution_count": 17,
   "metadata": {},
   "outputs": [],
   "source": [
    "RE_PUNCTUATION = '|'.join([re.escape(x) for x in string.punctuation])  \n",
    "df['clean'] = df['clean'].str.replace(RE_PUNCTUATION, \"\")"
   ]
  },
  {
   "cell_type": "code",
   "execution_count": 18,
   "metadata": {},
   "outputs": [],
   "source": [
    "lemmatizer = WordNetLemmatizer()\n",
    "\n",
    "def tokenize_lem(text):\n",
    "    # first tokenize by sentence, then by word to ensure that punctuation is caught as its own token\n",
    "    tokens = [word.lower() for sent in tok.sent_tokenize(text) for word in tok.word_tokenize(sent)]\n",
    "    filtered_tokens = []\n",
    "    # filter out any tokens not containing letters (e.g., numeric tokens, raw punctuation)\n",
    "    for token in tokens:\n",
    "        if re.search('[a-zA-Z]', token):\n",
    "            filtered_tokens.append(token)\n",
    "    return [lemmatizer.lemmatize(token) for token in filtered_tokens]"
   ]
  },
  {
   "cell_type": "code",
   "execution_count": 19,
   "metadata": {},
   "outputs": [],
   "source": [
    "df['clean'] = df['clean'].apply(tokenize_lem)"
   ]
  },
  {
   "cell_type": "code",
   "execution_count": 20,
   "metadata": {},
   "outputs": [],
   "source": [
    "df['clean_joined'] = df['clean'].str.join(\" \")"
   ]
  },
  {
   "cell_type": "code",
   "execution_count": 21,
   "metadata": {},
   "outputs": [],
   "source": [
    "# Create Stopwords list--standard wordlist plus commonly-seen words in the dataset.\n",
    "sw = stopwords.words('english')\n",
    "customsw = ['sxsw', 'link', 'rt', 'apple', 'austin', 'google', 'ipad', 'iphone', 'store', 'new', 'app', 'get', 'android']      \n",
    "             \n",
    "            #'android', 'social']\n",
    "            #'get', 'one', 'circle', 'launch', 'line', 'free', 'amp', 'popup', 'ipad2',\n",
    "            #'like', 'time', 'today']\n",
    "sw.extend(customsw)"
   ]
  },
  {
   "cell_type": "code",
   "execution_count": 22,
   "metadata": {},
   "outputs": [],
   "source": [
    "\n",
    "def remove_stopwords(token_list):\n",
    "    \"\"\"\n",
    "    Given a list of tokens, return a list where the tokens\n",
    "    that are also present in stopwords_list have been\n",
    "    removed\n",
    "    \"\"\"\n",
    "    stopwords_r = [token for token in token_list if token not in sw]\n",
    "    return stopwords_r"
   ]
  },
  {
   "cell_type": "code",
   "execution_count": 23,
   "metadata": {},
   "outputs": [],
   "source": [
    "df['clean'] = df['clean'].apply(remove_stopwords)"
   ]
  },
  {
   "cell_type": "code",
   "execution_count": 24,
   "metadata": {},
   "outputs": [],
   "source": [
    "df['stop_r'] = df['clean'].str.join(\" \")"
   ]
  },
  {
   "cell_type": "code",
   "execution_count": 25,
   "metadata": {},
   "outputs": [
    {
     "data": {
      "text/plain": [
       "0       3g hr tweeting riseaustin wa dead need upgrade...\n",
       "1       know awesome ipadiphone youll likely appreciat...\n",
       "2                                          wait also sale\n",
       "3                     hope year festival isnt crashy year\n",
       "4       great stuff fri marissa mayer tim oreilly tech...\n",
       "                              ...                        \n",
       "9088                                           everywhere\n",
       "9089    wave buzz interrupt regularly scheduled geek p...\n",
       "9090    zeiger physician never reported potential ae y...\n",
       "9091    verizon customer complained time fell back hou...\n",
       "9092    ï¡ïàüêîò£áââ£âûârt test...\n",
       "Name: stop_r, Length: 8936, dtype: object"
      ]
     },
     "execution_count": 25,
     "metadata": {},
     "output_type": "execute_result"
    }
   ],
   "source": [
    "df['stop_r']"
   ]
  },
  {
   "cell_type": "code",
   "execution_count": 26,
   "metadata": {},
   "outputs": [
    {
     "data": {
      "text/plain": [
       "0       [3g, hr, tweeting, riseaustin, wa, dead, need,...\n",
       "1       [know, awesome, ipadiphone, youll, likely, app...\n",
       "2                                      [wait, also, sale]\n",
       "3              [hope, year, festival, isnt, crashy, year]\n",
       "4       [great, stuff, fri, marissa, mayer, tim, oreil...\n",
       "                              ...                        \n",
       "9088                                         [everywhere]\n",
       "9089    [wave, buzz, interrupt, regularly, scheduled, ...\n",
       "9090    [zeiger, physician, never, reported, potential...\n",
       "9091    [verizon, customer, complained, time, fell, ba...\n",
       "9092    [ï¡ïàüêîò£áââ£âûârt, te...\n",
       "Name: clean, Length: 8936, dtype: object"
      ]
     },
     "execution_count": 26,
     "metadata": {},
     "output_type": "execute_result"
    }
   ],
   "source": [
    "df['clean']"
   ]
  },
  {
   "cell_type": "markdown",
   "metadata": {},
   "source": [
    "#### Most Common Words\n",
    "In an effort to eliminate noise in our data from words that are common across all classes, we first grouped the data by target class and plotted visualizations of the most frequently-occuring words. When we found that a word appeared in the 10 most common words for each class, we added it to the list of stop words so that it was removed before the modeling process. In the end, we identified a list of 13 words that were so common among each class that they created confusion. These words fell into three distinct categories:\n",
    "- Brand Names (apple, google, ipad, iphone, android)\n",
    "- Location of the conference at which classification was performed (austin, sxsw)\n",
    "- Common terms found in tweets or when referring to mobile applications (link, rt, store, new, app, get).\n",
    "\n",
    "While meaningful individually, it is easy to understand how these words might lose value when they appear in tweets expressing opposing viewpoints. For example, in the sentences “I love taking pictures on my iphone at sxsw in Austin” and “I hate carrying a huge iphone all over Austin”, the words iphone and austin have very little to do with the emotions being expressed."
   ]
  },
  {
   "cell_type": "code",
   "execution_count": 27,
   "metadata": {},
   "outputs": [],
   "source": [
    "def visualize_top_10(freq_dist, title):\n",
    "\n",
    "    # Extract data for plotting\n",
    "    top_10 = list(zip(*freq_dist.most_common(10)))\n",
    "    tokens = top_10[0]\n",
    "    counts = top_10[1]\n",
    "\n",
    "    # Set up plot and plot data\n",
    "    fig, ax = plt.subplots()\n",
    "    ax.bar(tokens, counts)\n",
    "\n",
    "    # Customize plot appearance\n",
    "    ax.set_title(title)\n",
    "    ax.set_ylabel(\"Count\")\n",
    "    ax.yaxis.set_major_locator(MaxNLocator(integer=True))\n",
    "    ax.tick_params(axis=\"x\", rotation=90)\n",
    "    "
   ]
  },
  {
   "cell_type": "code",
   "execution_count": 28,
   "metadata": {},
   "outputs": [
    {
     "data": {
      "image/png": "[encoded data removed]",
      "text/plain": [
       "<Figure size 432x288 with 1 Axes>"
      ]
     },
     "metadata": {
      "needs_background": "light"
     },
     "output_type": "display_data"
    }
   ],
   "source": [
    "sample_freq_dist = FreqDist(df[\"clean\"].explode())\n",
    "visualize_top_10(sample_freq_dist, \"Top 10 Word Frequency in Dataset\")"
   ]
  },
  {
   "cell_type": "code",
   "execution_count": 29,
   "metadata": {},
   "outputs": [
    {
     "data": {
      "image/png": "[encoded data removed]",
      "text/plain": [
       "<Figure size 432x288 with 1 Axes>"
      ]
     },
     "metadata": {
      "needs_background": "light"
     },
     "output_type": "display_data"
    }
   ],
   "source": [
    "pos_freq_dist = FreqDist(df['clean'].loc[df['target'] == 'Positive emotion'].explode())\n",
    "visualize_top_10(pos_freq_dist, 'Top 10 words in Positive Tweets')"
   ]
  },
  {
   "cell_type": "code",
   "execution_count": 30,
   "metadata": {},
   "outputs": [
    {
     "data": {
      "image/png": "[encoded data removed]",
      "text/plain": [
       "<Figure size 432x288 with 1 Axes>"
      ]
     },
     "metadata": {
      "needs_background": "light"
     },
     "output_type": "display_data"
    }
   ],
   "source": [
    "neg_freq_dist = FreqDist(df['clean'].loc[df['target'] == 'Negative emotion'].explode())\n",
    "visualize_top_10(neg_freq_dist, 'Top 10 words in Negative Tweets')"
   ]
  },
  {
   "cell_type": "code",
   "execution_count": 31,
   "metadata": {},
   "outputs": [
    {
     "data": {
      "image/png": "[encoded data removed]",
      "text/plain": [
       "<Figure size 432x288 with 1 Axes>"
      ]
     },
     "metadata": {
      "needs_background": "light"
     },
     "output_type": "display_data"
    }
   ],
   "source": [
    "neut_freq_dist = FreqDist(df['clean'].loc[df['target'] == 'No emotion toward brand or product'].explode())\n",
    "visualize_top_10(neut_freq_dist, 'Top 10 words in Neutral Tweets')"
   ]
  },
  {
   "cell_type": "code",
   "execution_count": 32,
   "metadata": {},
   "outputs": [],
   "source": [
    "X = df['stop_r']\n",
    "y = df['target']"
   ]
  },
  {
   "cell_type": "code",
   "execution_count": 33,
   "metadata": {},
   "outputs": [
    {
     "data": {
      "text/plain": [
       "str"
      ]
     },
     "execution_count": 33,
     "metadata": {},
     "output_type": "execute_result"
    }
   ],
   "source": [
    "type(df['stop_r'][0])"
   ]
  },
  {
   "cell_type": "code",
   "execution_count": 38,
   "metadata": {},
   "outputs": [
    {
     "data": {
      "image/png": "[encoded data removed]",
      "text/plain": [
       "<Figure size 432x288 with 1 Axes>"
      ]
     },
     "metadata": {
      "needs_background": "light"
     },
     "output_type": "display_data"
    }
   ],
   "source": [
    "all_text=\" \".join(row for row in df.stop_r)\n",
    "all_wordcloud = WordCloud(collocations=False, background_color='white').generate(all_text) \n",
    "plt.imshow(all_wordcloud, interpolation='bilinear')\n",
    "plt.axis(\"off\")\n",
    "plt.show()"
   ]
  },
  {
   "cell_type": "markdown",
   "metadata": {},
   "source": [
    "#### Train Test Split\n",
    "With our data processing complete, we performed a train-test split on the model using a 30% split between training and test data. We also performed vectorization of our training and test data in order to visualize how the data will be transformed in our pipeline. While we did not utilize these variables any further, it was helpful to visually inspect that the vectorizer worked correctly.\n"
   ]
  },
  {
   "cell_type": "code",
   "execution_count": 39,
   "metadata": {},
   "outputs": [],
   "source": [
    "#Performed the train-test split, using 25% for the hold-out data.\n",
    "X_train, X_test, y_train, y_test = train_test_split(X,\n",
    "                                                    y,\n",
    "                                                    random_state=42,\n",
    "                                                    test_size=0.30)"
   ]
  },
  {
   "cell_type": "code",
   "execution_count": 40,
   "metadata": {},
   "outputs": [],
   "source": [
    "tfidf = TfidfVectorizer(max_features=9000)"
   ]
  },
  {
   "cell_type": "code",
   "execution_count": 41,
   "metadata": {},
   "outputs": [],
   "source": [
    "X_train_vectorized = tfidf.fit_transform(X_train)"
   ]
  },
  {
   "cell_type": "code",
   "execution_count": 42,
   "metadata": {},
   "outputs": [
    {
     "data": {
      "text/plain": [
       "<6255x8096 sparse matrix of type '<class 'numpy.float64'>'\n",
       "\twith 48314 stored elements in Compressed Sparse Row format>"
      ]
     },
     "execution_count": 42,
     "metadata": {},
     "output_type": "execute_result"
    }
   ],
   "source": [
    "X_train_vectorized"
   ]
  },
  {
   "cell_type": "code",
   "execution_count": 43,
   "metadata": {},
   "outputs": [
    {
     "data": {
      "text/html": [
       "<div>\n",
       "<style scoped>\n",
       "    .dataframe tbody tr th:only-of-type {\n",
       "        vertical-align: middle;\n",
       "    }\n",
       "\n",
       "    .dataframe tbody tr th {\n",
       "        vertical-align: top;\n",
       "    }\n",
       "\n",
       "    .dataframe thead th {\n",
       "        text-align: right;\n",
       "    }\n",
       "</style>\n",
       "<table border=\"1\" class=\"dataframe\">\n",
       "  <thead>\n",
       "    <tr style=\"text-align: right;\">\n",
       "      <th></th>\n",
       "      <th>0310apple</th>\n",
       "      <th>100</th>\n",
       "      <th>100tc</th>\n",
       "      <th>103011p</th>\n",
       "      <th>1045am3</th>\n",
       "      <th>105hrs</th>\n",
       "      <th>10k</th>\n",
       "      <th>10mins</th>\n",
       "      <th>10x</th>\n",
       "      <th>10x2</th>\n",
       "      <th>...</th>\n",
       "      <th>ûïspecial</th>\n",
       "      <th>ûïspecials</th>\n",
       "      <th>ûïthe</th>\n",
       "      <th>ûïwin</th>\n",
       "      <th>ûòand</th>\n",
       "      <th>ûó</th>\n",
       "      <th>ûócan</th>\n",
       "      <th>ûólewis</th>\n",
       "      <th>ûólots</th>\n",
       "      <th>ûóthe</th>\n",
       "    </tr>\n",
       "  </thead>\n",
       "  <tbody>\n",
       "    <tr>\n",
       "      <th>0</th>\n",
       "      <td>0.0</td>\n",
       "      <td>0.0</td>\n",
       "      <td>0.0</td>\n",
       "      <td>0.0</td>\n",
       "      <td>0.0</td>\n",
       "      <td>0.0</td>\n",
       "      <td>0.0</td>\n",
       "      <td>0.0</td>\n",
       "      <td>0.0</td>\n",
       "      <td>0.0</td>\n",
       "      <td>...</td>\n",
       "      <td>0.0</td>\n",
       "      <td>0.0</td>\n",
       "      <td>0.0</td>\n",
       "      <td>0.0</td>\n",
       "      <td>0.0</td>\n",
       "      <td>0.0</td>\n",
       "      <td>0.0</td>\n",
       "      <td>0.0</td>\n",
       "      <td>0.0</td>\n",
       "      <td>0.0</td>\n",
       "    </tr>\n",
       "    <tr>\n",
       "      <th>1</th>\n",
       "      <td>0.0</td>\n",
       "      <td>0.0</td>\n",
       "      <td>0.0</td>\n",
       "      <td>0.0</td>\n",
       "      <td>0.0</td>\n",
       "      <td>0.0</td>\n",
       "      <td>0.0</td>\n",
       "      <td>0.0</td>\n",
       "      <td>0.0</td>\n",
       "      <td>0.0</td>\n",
       "      <td>...</td>\n",
       "      <td>0.0</td>\n",
       "      <td>0.0</td>\n",
       "      <td>0.0</td>\n",
       "      <td>0.0</td>\n",
       "      <td>0.0</td>\n",
       "      <td>0.0</td>\n",
       "      <td>0.0</td>\n",
       "      <td>0.0</td>\n",
       "      <td>0.0</td>\n",
       "      <td>0.0</td>\n",
       "    </tr>\n",
       "    <tr>\n",
       "      <th>2</th>\n",
       "      <td>0.0</td>\n",
       "      <td>0.0</td>\n",
       "      <td>0.0</td>\n",
       "      <td>0.0</td>\n",
       "      <td>0.0</td>\n",
       "      <td>0.0</td>\n",
       "      <td>0.0</td>\n",
       "      <td>0.0</td>\n",
       "      <td>0.0</td>\n",
       "      <td>0.0</td>\n",
       "      <td>...</td>\n",
       "      <td>0.0</td>\n",
       "      <td>0.0</td>\n",
       "      <td>0.0</td>\n",
       "      <td>0.0</td>\n",
       "      <td>0.0</td>\n",
       "      <td>0.0</td>\n",
       "      <td>0.0</td>\n",
       "      <td>0.0</td>\n",
       "      <td>0.0</td>\n",
       "      <td>0.0</td>\n",
       "    </tr>\n",
       "    <tr>\n",
       "      <th>3</th>\n",
       "      <td>0.0</td>\n",
       "      <td>0.0</td>\n",
       "      <td>0.0</td>\n",
       "      <td>0.0</td>\n",
       "      <td>0.0</td>\n",
       "      <td>0.0</td>\n",
       "      <td>0.0</td>\n",
       "      <td>0.0</td>\n",
       "      <td>0.0</td>\n",
       "      <td>0.0</td>\n",
       "      <td>...</td>\n",
       "      <td>0.0</td>\n",
       "      <td>0.0</td>\n",
       "      <td>0.0</td>\n",
       "      <td>0.0</td>\n",
       "      <td>0.0</td>\n",
       "      <td>0.0</td>\n",
       "      <td>0.0</td>\n",
       "      <td>0.0</td>\n",
       "      <td>0.0</td>\n",
       "      <td>0.0</td>\n",
       "    </tr>\n",
       "    <tr>\n",
       "      <th>4</th>\n",
       "      <td>0.0</td>\n",
       "      <td>0.0</td>\n",
       "      <td>0.0</td>\n",
       "      <td>0.0</td>\n",
       "      <td>0.0</td>\n",
       "      <td>0.0</td>\n",
       "      <td>0.0</td>\n",
       "      <td>0.0</td>\n",
       "      <td>0.0</td>\n",
       "      <td>0.0</td>\n",
       "      <td>...</td>\n",
       "      <td>0.0</td>\n",
       "      <td>0.0</td>\n",
       "      <td>0.0</td>\n",
       "      <td>0.0</td>\n",
       "      <td>0.0</td>\n",
       "      <td>0.0</td>\n",
       "      <td>0.0</td>\n",
       "      <td>0.0</td>\n",
       "      <td>0.0</td>\n",
       "      <td>0.0</td>\n",
       "    </tr>\n",
       "    <tr>\n",
       "      <th>...</th>\n",
       "      <td>...</td>\n",
       "      <td>...</td>\n",
       "      <td>...</td>\n",
       "      <td>...</td>\n",
       "      <td>...</td>\n",
       "      <td>...</td>\n",
       "      <td>...</td>\n",
       "      <td>...</td>\n",
       "      <td>...</td>\n",
       "      <td>...</td>\n",
       "      <td>...</td>\n",
       "      <td>...</td>\n",
       "      <td>...</td>\n",
       "      <td>...</td>\n",
       "      <td>...</td>\n",
       "      <td>...</td>\n",
       "      <td>...</td>\n",
       "      <td>...</td>\n",
       "      <td>...</td>\n",
       "      <td>...</td>\n",
       "      <td>...</td>\n",
       "    </tr>\n",
       "    <tr>\n",
       "      <th>6250</th>\n",
       "      <td>0.0</td>\n",
       "      <td>0.0</td>\n",
       "      <td>0.0</td>\n",
       "      <td>0.0</td>\n",
       "      <td>0.0</td>\n",
       "      <td>0.0</td>\n",
       "      <td>0.0</td>\n",
       "      <td>0.0</td>\n",
       "      <td>0.0</td>\n",
       "      <td>0.0</td>\n",
       "      <td>...</td>\n",
       "      <td>0.0</td>\n",
       "      <td>0.0</td>\n",
       "      <td>0.0</td>\n",
       "      <td>0.0</td>\n",
       "      <td>0.0</td>\n",
       "      <td>0.0</td>\n",
       "      <td>0.0</td>\n",
       "      <td>0.0</td>\n",
       "      <td>0.0</td>\n",
       "      <td>0.0</td>\n",
       "    </tr>\n",
       "    <tr>\n",
       "      <th>6251</th>\n",
       "      <td>0.0</td>\n",
       "      <td>0.0</td>\n",
       "      <td>0.0</td>\n",
       "      <td>0.0</td>\n",
       "      <td>0.0</td>\n",
       "      <td>0.0</td>\n",
       "      <td>0.0</td>\n",
       "      <td>0.0</td>\n",
       "      <td>0.0</td>\n",
       "      <td>0.0</td>\n",
       "      <td>...</td>\n",
       "      <td>0.0</td>\n",
       "      <td>0.0</td>\n",
       "      <td>0.0</td>\n",
       "      <td>0.0</td>\n",
       "      <td>0.0</td>\n",
       "      <td>0.0</td>\n",
       "      <td>0.0</td>\n",
       "      <td>0.0</td>\n",
       "      <td>0.0</td>\n",
       "      <td>0.0</td>\n",
       "    </tr>\n",
       "    <tr>\n",
       "      <th>6252</th>\n",
       "      <td>0.0</td>\n",
       "      <td>0.0</td>\n",
       "      <td>0.0</td>\n",
       "      <td>0.0</td>\n",
       "      <td>0.0</td>\n",
       "      <td>0.0</td>\n",
       "      <td>0.0</td>\n",
       "      <td>0.0</td>\n",
       "      <td>0.0</td>\n",
       "      <td>0.0</td>\n",
       "      <td>...</td>\n",
       "      <td>0.0</td>\n",
       "      <td>0.0</td>\n",
       "      <td>0.0</td>\n",
       "      <td>0.0</td>\n",
       "      <td>0.0</td>\n",
       "      <td>0.0</td>\n",
       "      <td>0.0</td>\n",
       "      <td>0.0</td>\n",
       "      <td>0.0</td>\n",
       "      <td>0.0</td>\n",
       "    </tr>\n",
       "    <tr>\n",
       "      <th>6253</th>\n",
       "      <td>0.0</td>\n",
       "      <td>0.0</td>\n",
       "      <td>0.0</td>\n",
       "      <td>0.0</td>\n",
       "      <td>0.0</td>\n",
       "      <td>0.0</td>\n",
       "      <td>0.0</td>\n",
       "      <td>0.0</td>\n",
       "      <td>0.0</td>\n",
       "      <td>0.0</td>\n",
       "      <td>...</td>\n",
       "      <td>0.0</td>\n",
       "      <td>0.0</td>\n",
       "      <td>0.0</td>\n",
       "      <td>0.0</td>\n",
       "      <td>0.0</td>\n",
       "      <td>0.0</td>\n",
       "      <td>0.0</td>\n",
       "      <td>0.0</td>\n",
       "      <td>0.0</td>\n",
       "      <td>0.0</td>\n",
       "    </tr>\n",
       "    <tr>\n",
       "      <th>6254</th>\n",
       "      <td>0.0</td>\n",
       "      <td>0.0</td>\n",
       "      <td>0.0</td>\n",
       "      <td>0.0</td>\n",
       "      <td>0.0</td>\n",
       "      <td>0.0</td>\n",
       "      <td>0.0</td>\n",
       "      <td>0.0</td>\n",
       "      <td>0.0</td>\n",
       "      <td>0.0</td>\n",
       "      <td>...</td>\n",
       "      <td>0.0</td>\n",
       "      <td>0.0</td>\n",
       "      <td>0.0</td>\n",
       "      <td>0.0</td>\n",
       "      <td>0.0</td>\n",
       "      <td>0.0</td>\n",
       "      <td>0.0</td>\n",
       "      <td>0.0</td>\n",
       "      <td>0.0</td>\n",
       "      <td>0.0</td>\n",
       "    </tr>\n",
       "  </tbody>\n",
       "</table>\n",
       "<p>6255 rows × 8096 columns</p>\n",
       "</div>"
      ],
      "text/plain": [
       "      0310apple  100  100tc  103011p  1045am3  105hrs  10k  10mins  10x  10x2  \\\n",
       "0           0.0  0.0    0.0      0.0      0.0     0.0  0.0     0.0  0.0   0.0   \n",
       "1           0.0  0.0    0.0      0.0      0.0     0.0  0.0     0.0  0.0   0.0   \n",
       "2           0.0  0.0    0.0      0.0      0.0     0.0  0.0     0.0  0.0   0.0   \n",
       "3           0.0  0.0    0.0      0.0      0.0     0.0  0.0     0.0  0.0   0.0   \n",
       "4           0.0  0.0    0.0      0.0      0.0     0.0  0.0     0.0  0.0   0.0   \n",
       "...         ...  ...    ...      ...      ...     ...  ...     ...  ...   ...   \n",
       "6250        0.0  0.0    0.0      0.0      0.0     0.0  0.0     0.0  0.0   0.0   \n",
       "6251        0.0  0.0    0.0      0.0      0.0     0.0  0.0     0.0  0.0   0.0   \n",
       "6252        0.0  0.0    0.0      0.0      0.0     0.0  0.0     0.0  0.0   0.0   \n",
       "6253        0.0  0.0    0.0      0.0      0.0     0.0  0.0     0.0  0.0   0.0   \n",
       "6254        0.0  0.0    0.0      0.0      0.0     0.0  0.0     0.0  0.0   0.0   \n",
       "\n",
       "      ...  ûïspecial  ûïspecials  ûïthe  ûïwin  ûòand   ûó  ûócan  ûólewis  \\\n",
       "0     ...        0.0         0.0    0.0    0.0    0.0  0.0    0.0      0.0   \n",
       "1     ...        0.0         0.0    0.0    0.0    0.0  0.0    0.0      0.0   \n",
       "2     ...        0.0         0.0    0.0    0.0    0.0  0.0    0.0      0.0   \n",
       "3     ...        0.0         0.0    0.0    0.0    0.0  0.0    0.0      0.0   \n",
       "4     ...        0.0         0.0    0.0    0.0    0.0  0.0    0.0      0.0   \n",
       "...   ...        ...         ...    ...    ...    ...  ...    ...      ...   \n",
       "6250  ...        0.0         0.0    0.0    0.0    0.0  0.0    0.0      0.0   \n",
       "6251  ...        0.0         0.0    0.0    0.0    0.0  0.0    0.0      0.0   \n",
       "6252  ...        0.0         0.0    0.0    0.0    0.0  0.0    0.0      0.0   \n",
       "6253  ...        0.0         0.0    0.0    0.0    0.0  0.0    0.0      0.0   \n",
       "6254  ...        0.0         0.0    0.0    0.0    0.0  0.0    0.0      0.0   \n",
       "\n",
       "      ûólots  ûóthe  \n",
       "0        0.0    0.0  \n",
       "1        0.0    0.0  \n",
       "2        0.0    0.0  \n",
       "3        0.0    0.0  \n",
       "4        0.0    0.0  \n",
       "...      ...    ...  \n",
       "6250     0.0    0.0  \n",
       "6251     0.0    0.0  \n",
       "6252     0.0    0.0  \n",
       "6253     0.0    0.0  \n",
       "6254     0.0    0.0  \n",
       "\n",
       "[6255 rows x 8096 columns]"
      ]
     },
     "execution_count": 43,
     "metadata": {},
     "output_type": "execute_result"
    }
   ],
   "source": [
    "X_train_vec = pd.DataFrame.sparse.from_spmatrix(X_train_vectorized, columns=tfidf.get_feature_names())\n",
    "X_train_vec"
   ]
  },
  {
   "cell_type": "code",
   "execution_count": 44,
   "metadata": {},
   "outputs": [
    {
     "data": {
      "text/plain": [
       "<2681x8096 sparse matrix of type '<class 'numpy.float64'>'\n",
       "\twith 19079 stored elements in Compressed Sparse Row format>"
      ]
     },
     "execution_count": 44,
     "metadata": {},
     "output_type": "execute_result"
    }
   ],
   "source": [
    "# Transform test data using TF-IDF Vectorizer\n",
    "X_test_vectorized = tfidf.transform(X_test)\n",
    "X_test_vectorized"
   ]
  },
  {
   "cell_type": "code",
   "execution_count": 45,
   "metadata": {},
   "outputs": [
    {
     "data": {
      "text/html": [
       "<div>\n",
       "<style scoped>\n",
       "    .dataframe tbody tr th:only-of-type {\n",
       "        vertical-align: middle;\n",
       "    }\n",
       "\n",
       "    .dataframe tbody tr th {\n",
       "        vertical-align: top;\n",
       "    }\n",
       "\n",
       "    .dataframe thead th {\n",
       "        text-align: right;\n",
       "    }\n",
       "</style>\n",
       "<table border=\"1\" class=\"dataframe\">\n",
       "  <thead>\n",
       "    <tr style=\"text-align: right;\">\n",
       "      <th></th>\n",
       "      <th>0310apple</th>\n",
       "      <th>100</th>\n",
       "      <th>100tc</th>\n",
       "      <th>103011p</th>\n",
       "      <th>1045am3</th>\n",
       "      <th>105hrs</th>\n",
       "      <th>10k</th>\n",
       "      <th>10mins</th>\n",
       "      <th>10x</th>\n",
       "      <th>10x2</th>\n",
       "      <th>...</th>\n",
       "      <th>ûïspecial</th>\n",
       "      <th>ûïspecials</th>\n",
       "      <th>ûïthe</th>\n",
       "      <th>ûïwin</th>\n",
       "      <th>ûòand</th>\n",
       "      <th>ûó</th>\n",
       "      <th>ûócan</th>\n",
       "      <th>ûólewis</th>\n",
       "      <th>ûólots</th>\n",
       "      <th>ûóthe</th>\n",
       "    </tr>\n",
       "  </thead>\n",
       "  <tbody>\n",
       "    <tr>\n",
       "      <th>0</th>\n",
       "      <td>0.0</td>\n",
       "      <td>0.0</td>\n",
       "      <td>0.0</td>\n",
       "      <td>0.0</td>\n",
       "      <td>0.0</td>\n",
       "      <td>0.0</td>\n",
       "      <td>0.0</td>\n",
       "      <td>0.0</td>\n",
       "      <td>0.0</td>\n",
       "      <td>0.0</td>\n",
       "      <td>...</td>\n",
       "      <td>0.0</td>\n",
       "      <td>0.0</td>\n",
       "      <td>0.0</td>\n",
       "      <td>0.0</td>\n",
       "      <td>0.0</td>\n",
       "      <td>0.0</td>\n",
       "      <td>0.0</td>\n",
       "      <td>0.0</td>\n",
       "      <td>0.0</td>\n",
       "      <td>0.0</td>\n",
       "    </tr>\n",
       "    <tr>\n",
       "      <th>1</th>\n",
       "      <td>0.0</td>\n",
       "      <td>0.0</td>\n",
       "      <td>0.0</td>\n",
       "      <td>0.0</td>\n",
       "      <td>0.0</td>\n",
       "      <td>0.0</td>\n",
       "      <td>0.0</td>\n",
       "      <td>0.0</td>\n",
       "      <td>0.0</td>\n",
       "      <td>0.0</td>\n",
       "      <td>...</td>\n",
       "      <td>0.0</td>\n",
       "      <td>0.0</td>\n",
       "      <td>0.0</td>\n",
       "      <td>0.0</td>\n",
       "      <td>0.0</td>\n",
       "      <td>0.0</td>\n",
       "      <td>0.0</td>\n",
       "      <td>0.0</td>\n",
       "      <td>0.0</td>\n",
       "      <td>0.0</td>\n",
       "    </tr>\n",
       "    <tr>\n",
       "      <th>2</th>\n",
       "      <td>0.0</td>\n",
       "      <td>0.0</td>\n",
       "      <td>0.0</td>\n",
       "      <td>0.0</td>\n",
       "      <td>0.0</td>\n",
       "      <td>0.0</td>\n",
       "      <td>0.0</td>\n",
       "      <td>0.0</td>\n",
       "      <td>0.0</td>\n",
       "      <td>0.0</td>\n",
       "      <td>...</td>\n",
       "      <td>0.0</td>\n",
       "      <td>0.0</td>\n",
       "      <td>0.0</td>\n",
       "      <td>0.0</td>\n",
       "      <td>0.0</td>\n",
       "      <td>0.0</td>\n",
       "      <td>0.0</td>\n",
       "      <td>0.0</td>\n",
       "      <td>0.0</td>\n",
       "      <td>0.0</td>\n",
       "    </tr>\n",
       "    <tr>\n",
       "      <th>3</th>\n",
       "      <td>0.0</td>\n",
       "      <td>0.0</td>\n",
       "      <td>0.0</td>\n",
       "      <td>0.0</td>\n",
       "      <td>0.0</td>\n",
       "      <td>0.0</td>\n",
       "      <td>0.0</td>\n",
       "      <td>0.0</td>\n",
       "      <td>0.0</td>\n",
       "      <td>0.0</td>\n",
       "      <td>...</td>\n",
       "      <td>0.0</td>\n",
       "      <td>0.0</td>\n",
       "      <td>0.0</td>\n",
       "      <td>0.0</td>\n",
       "      <td>0.0</td>\n",
       "      <td>0.0</td>\n",
       "      <td>0.0</td>\n",
       "      <td>0.0</td>\n",
       "      <td>0.0</td>\n",
       "      <td>0.0</td>\n",
       "    </tr>\n",
       "    <tr>\n",
       "      <th>4</th>\n",
       "      <td>0.0</td>\n",
       "      <td>0.0</td>\n",
       "      <td>0.0</td>\n",
       "      <td>0.0</td>\n",
       "      <td>0.0</td>\n",
       "      <td>0.0</td>\n",
       "      <td>0.0</td>\n",
       "      <td>0.0</td>\n",
       "      <td>0.0</td>\n",
       "      <td>0.0</td>\n",
       "      <td>...</td>\n",
       "      <td>0.0</td>\n",
       "      <td>0.0</td>\n",
       "      <td>0.0</td>\n",
       "      <td>0.0</td>\n",
       "      <td>0.0</td>\n",
       "      <td>0.0</td>\n",
       "      <td>0.0</td>\n",
       "      <td>0.0</td>\n",
       "      <td>0.0</td>\n",
       "      <td>0.0</td>\n",
       "    </tr>\n",
       "    <tr>\n",
       "      <th>...</th>\n",
       "      <td>...</td>\n",
       "      <td>...</td>\n",
       "      <td>...</td>\n",
       "      <td>...</td>\n",
       "      <td>...</td>\n",
       "      <td>...</td>\n",
       "      <td>...</td>\n",
       "      <td>...</td>\n",
       "      <td>...</td>\n",
       "      <td>...</td>\n",
       "      <td>...</td>\n",
       "      <td>...</td>\n",
       "      <td>...</td>\n",
       "      <td>...</td>\n",
       "      <td>...</td>\n",
       "      <td>...</td>\n",
       "      <td>...</td>\n",
       "      <td>...</td>\n",
       "      <td>...</td>\n",
       "      <td>...</td>\n",
       "      <td>...</td>\n",
       "    </tr>\n",
       "    <tr>\n",
       "      <th>2676</th>\n",
       "      <td>0.0</td>\n",
       "      <td>0.0</td>\n",
       "      <td>0.0</td>\n",
       "      <td>0.0</td>\n",
       "      <td>0.0</td>\n",
       "      <td>0.0</td>\n",
       "      <td>0.0</td>\n",
       "      <td>0.0</td>\n",
       "      <td>0.0</td>\n",
       "      <td>0.0</td>\n",
       "      <td>...</td>\n",
       "      <td>0.0</td>\n",
       "      <td>0.0</td>\n",
       "      <td>0.0</td>\n",
       "      <td>0.0</td>\n",
       "      <td>0.0</td>\n",
       "      <td>0.0</td>\n",
       "      <td>0.0</td>\n",
       "      <td>0.0</td>\n",
       "      <td>0.0</td>\n",
       "      <td>0.0</td>\n",
       "    </tr>\n",
       "    <tr>\n",
       "      <th>2677</th>\n",
       "      <td>0.0</td>\n",
       "      <td>0.0</td>\n",
       "      <td>0.0</td>\n",
       "      <td>0.0</td>\n",
       "      <td>0.0</td>\n",
       "      <td>0.0</td>\n",
       "      <td>0.0</td>\n",
       "      <td>0.0</td>\n",
       "      <td>0.0</td>\n",
       "      <td>0.0</td>\n",
       "      <td>...</td>\n",
       "      <td>0.0</td>\n",
       "      <td>0.0</td>\n",
       "      <td>0.0</td>\n",
       "      <td>0.0</td>\n",
       "      <td>0.0</td>\n",
       "      <td>0.0</td>\n",
       "      <td>0.0</td>\n",
       "      <td>0.0</td>\n",
       "      <td>0.0</td>\n",
       "      <td>0.0</td>\n",
       "    </tr>\n",
       "    <tr>\n",
       "      <th>2678</th>\n",
       "      <td>0.0</td>\n",
       "      <td>0.0</td>\n",
       "      <td>0.0</td>\n",
       "      <td>0.0</td>\n",
       "      <td>0.0</td>\n",
       "      <td>0.0</td>\n",
       "      <td>0.0</td>\n",
       "      <td>0.0</td>\n",
       "      <td>0.0</td>\n",
       "      <td>0.0</td>\n",
       "      <td>...</td>\n",
       "      <td>0.0</td>\n",
       "      <td>0.0</td>\n",
       "      <td>0.0</td>\n",
       "      <td>0.0</td>\n",
       "      <td>0.0</td>\n",
       "      <td>0.0</td>\n",
       "      <td>0.0</td>\n",
       "      <td>0.0</td>\n",
       "      <td>0.0</td>\n",
       "      <td>0.0</td>\n",
       "    </tr>\n",
       "    <tr>\n",
       "      <th>2679</th>\n",
       "      <td>0.0</td>\n",
       "      <td>0.0</td>\n",
       "      <td>0.0</td>\n",
       "      <td>0.0</td>\n",
       "      <td>0.0</td>\n",
       "      <td>0.0</td>\n",
       "      <td>0.0</td>\n",
       "      <td>0.0</td>\n",
       "      <td>0.0</td>\n",
       "      <td>0.0</td>\n",
       "      <td>...</td>\n",
       "      <td>0.0</td>\n",
       "      <td>0.0</td>\n",
       "      <td>0.0</td>\n",
       "      <td>0.0</td>\n",
       "      <td>0.0</td>\n",
       "      <td>0.0</td>\n",
       "      <td>0.0</td>\n",
       "      <td>0.0</td>\n",
       "      <td>0.0</td>\n",
       "      <td>0.0</td>\n",
       "    </tr>\n",
       "    <tr>\n",
       "      <th>2680</th>\n",
       "      <td>0.0</td>\n",
       "      <td>0.0</td>\n",
       "      <td>0.0</td>\n",
       "      <td>0.0</td>\n",
       "      <td>0.0</td>\n",
       "      <td>0.0</td>\n",
       "      <td>0.0</td>\n",
       "      <td>0.0</td>\n",
       "      <td>0.0</td>\n",
       "      <td>0.0</td>\n",
       "      <td>...</td>\n",
       "      <td>0.0</td>\n",
       "      <td>0.0</td>\n",
       "      <td>0.0</td>\n",
       "      <td>0.0</td>\n",
       "      <td>0.0</td>\n",
       "      <td>0.0</td>\n",
       "      <td>0.0</td>\n",
       "      <td>0.0</td>\n",
       "      <td>0.0</td>\n",
       "      <td>0.0</td>\n",
       "    </tr>\n",
       "  </tbody>\n",
       "</table>\n",
       "<p>2681 rows × 8096 columns</p>\n",
       "</div>"
      ],
      "text/plain": [
       "      0310apple  100  100tc  103011p  1045am3  105hrs  10k  10mins  10x  10x2  \\\n",
       "0           0.0  0.0    0.0      0.0      0.0     0.0  0.0     0.0  0.0   0.0   \n",
       "1           0.0  0.0    0.0      0.0      0.0     0.0  0.0     0.0  0.0   0.0   \n",
       "2           0.0  0.0    0.0      0.0      0.0     0.0  0.0     0.0  0.0   0.0   \n",
       "3           0.0  0.0    0.0      0.0      0.0     0.0  0.0     0.0  0.0   0.0   \n",
       "4           0.0  0.0    0.0      0.0      0.0     0.0  0.0     0.0  0.0   0.0   \n",
       "...         ...  ...    ...      ...      ...     ...  ...     ...  ...   ...   \n",
       "2676        0.0  0.0    0.0      0.0      0.0     0.0  0.0     0.0  0.0   0.0   \n",
       "2677        0.0  0.0    0.0      0.0      0.0     0.0  0.0     0.0  0.0   0.0   \n",
       "2678        0.0  0.0    0.0      0.0      0.0     0.0  0.0     0.0  0.0   0.0   \n",
       "2679        0.0  0.0    0.0      0.0      0.0     0.0  0.0     0.0  0.0   0.0   \n",
       "2680        0.0  0.0    0.0      0.0      0.0     0.0  0.0     0.0  0.0   0.0   \n",
       "\n",
       "      ...  ûïspecial  ûïspecials  ûïthe  ûïwin  ûòand   ûó  ûócan  ûólewis  \\\n",
       "0     ...        0.0         0.0    0.0    0.0    0.0  0.0    0.0      0.0   \n",
       "1     ...        0.0         0.0    0.0    0.0    0.0  0.0    0.0      0.0   \n",
       "2     ...        0.0         0.0    0.0    0.0    0.0  0.0    0.0      0.0   \n",
       "3     ...        0.0         0.0    0.0    0.0    0.0  0.0    0.0      0.0   \n",
       "4     ...        0.0         0.0    0.0    0.0    0.0  0.0    0.0      0.0   \n",
       "...   ...        ...         ...    ...    ...    ...  ...    ...      ...   \n",
       "2676  ...        0.0         0.0    0.0    0.0    0.0  0.0    0.0      0.0   \n",
       "2677  ...        0.0         0.0    0.0    0.0    0.0  0.0    0.0      0.0   \n",
       "2678  ...        0.0         0.0    0.0    0.0    0.0  0.0    0.0      0.0   \n",
       "2679  ...        0.0         0.0    0.0    0.0    0.0  0.0    0.0      0.0   \n",
       "2680  ...        0.0         0.0    0.0    0.0    0.0  0.0    0.0      0.0   \n",
       "\n",
       "      ûólots  ûóthe  \n",
       "0        0.0    0.0  \n",
       "1        0.0    0.0  \n",
       "2        0.0    0.0  \n",
       "3        0.0    0.0  \n",
       "4        0.0    0.0  \n",
       "...      ...    ...  \n",
       "2676     0.0    0.0  \n",
       "2677     0.0    0.0  \n",
       "2678     0.0    0.0  \n",
       "2679     0.0    0.0  \n",
       "2680     0.0    0.0  \n",
       "\n",
       "[2681 rows x 8096 columns]"
      ]
     },
     "execution_count": 45,
     "metadata": {},
     "output_type": "execute_result"
    }
   ],
   "source": [
    "# Convert to DataFrame for visual inspection\n",
    "X_test_vec = pd.DataFrame.sparse.from_spmatrix(X_test_vectorized, columns=tfidf.get_feature_names())\n",
    "X_test_vec"
   ]
  },
  {
   "cell_type": "markdown",
   "metadata": {},
   "source": [
    "# Modeling\n",
    "For our analysis, we elected to use accuracy score to evaluate our models. Our goal is to correctly categorize each tweet into positive, negative or neutral based on its contents. The multiclass nature of the problem makes it more challenging for the model to accurately predict sentiment. However, we chose accuracy as our evaluation metric because it evaluates how many of the model’s predictions are correct. The impact of a false negative or false positive prediction is less severe in this business case than in medical diagnosis, for example. Assuming that the accuracy performance of the model is good enough, the company should be able to use it to form a reasonable understanding of how the wider community is receiving their releases. It will be less suited for predicting the same for individual users, but that is not the goal of this analysis.\n",
    "\n",
    "For each model we created a pipeline that includes a TF-IDF vectorizer, a smote component to deal with class imbalance, and the classifier itself. We elected to use a TF-IDF vectorizer instead of a count vectorizer because it provides a way to understand the importance of each word to the tweet, as well as just how frequently it occurs. \n"
   ]
  },
  {
   "cell_type": "code",
   "execution_count": 108,
   "metadata": {},
   "outputs": [],
   "source": [
    "# Define max features for all models\n",
    "max_features = 7000"
   ]
  },
  {
   "cell_type": "code",
   "execution_count": 109,
   "metadata": {},
   "outputs": [],
   "source": [
    "# Customer scorers using the weighted average argument, to be used in cross-validation\n",
    "\n",
    "# Accuracy\n",
    "accuracy = accuracy_score\n",
    "\n",
    "#f1\n",
    "custom_f1 = make_scorer(\n",
    "    f1_score, \n",
    "    average=\"weighted\"\n",
    ")\n",
    "\n",
    "# Precision\n",
    "multi_prec = make_scorer(\n",
    "    precision_score,\n",
    "    average=\"weighted\")\n",
    "\n",
    "# Recall\n",
    "multi_rec = make_scorer(\n",
    "    recall_score,\n",
    "    average=\"weighted\")\n",
    "\n",
    "# This function will allow for quick cross-validation of the chosen score for each of our models.\n",
    "def cross_val(model, X, y, custom_scorer, kfolds=5):\n",
    "    \"\"\" Perform cross-validated scoring and store/print results \"\"\"\n",
    "    results = cross_val_score(model, X, y, cv=kfolds, scoring=custom_scorer)\n",
    "    mean = np.mean(results)\n",
    "    median = np.median(results)\n",
    "    std = np.std(results)\n",
    "    if custom_scorer == custom_f1:\n",
    "        print(f\"Mean f1 score: \", {mean}, \".\")\n",
    "        print(f\"Median f1 score: \", {median}, \".\")\n",
    "        print(f\"Standard Deviation in f1 score: \", {std}, \".\") \n",
    "    elif custom_scorer == multi_prec:\n",
    "        print(f\"Mean precision score: \", {mean}, \".\")\n",
    "        print(f\"Median precision score: \", {median}, \".\")\n",
    "        print(f\"Standard Deviation in precision score: \", {std}, \".\") \n",
    "    elif custom_scorer == multi_rec:\n",
    "        print(f\"Mean recall score: \", {mean}, \".\")\n",
    "        print(f\"Median recall score: \", {median}, \".\")\n",
    "        print(f\"Standard Deviation in recall score: \", {std}, \".\") "
   ]
  },
  {
   "cell_type": "markdown",
   "metadata": {},
   "source": [
    "### Dummy Classifier"
   ]
  },
  {
   "cell_type": "code",
   "execution_count": 110,
   "metadata": {},
   "outputs": [],
   "source": [
    "# Instantiate Dummy Classifier pipeline\n",
    "dummy_pipe = ImPipeline(steps=[\n",
    "                                    ('vect', TfidfVectorizer(max_features=max_features)),\n",
    "                                    ('sm', SMOTE(random_state=42)),\n",
    "                                    ('dc', DummyClassifier(strategy='constant', constant='No emotion toward brand or product',\n",
    "                                                           random_state=42))\n",
    "                                    ]\n",
    "                            )"
   ]
  },
  {
   "cell_type": "code",
   "execution_count": 111,
   "metadata": {},
   "outputs": [
    {
     "name": "stdout",
     "output_type": "stream",
     "text": [
      "0.3644259907821145\n",
      "0.6036770583533173\n"
     ]
    },
    {
     "name": "stderr",
     "output_type": "stream",
     "text": [
      "/Users/tom/opt/anaconda3/envs/learn-env/lib/python3.8/site-packages/sklearn/metrics/_classification.py:1221: UndefinedMetricWarning: Precision is ill-defined and being set to 0.0 in labels with no predicted samples. Use `zero_division` parameter to control this behavior.\n",
      "  _warn_prf(average, modifier, msg_start, len(result))\n"
     ]
    },
    {
     "data": {
      "image/png": "[encoded data removed]",
      "text/plain": [
       "<Figure size 432x288 with 2 Axes>"
      ]
     },
     "metadata": {
      "needs_background": "light"
     },
     "output_type": "display_data"
    }
   ],
   "source": [
    "# Fit dummy pipe on the training data, get predictions and plot confusion matrix\n",
    "dummy_pipe.fit(X_train, y_train)\n",
    "dummy_yhat = dummy_pipe.predict(X_train)\n",
    "plot_confusion_matrix(dummy_pipe, X_train, y_train)\n",
    "print(precision_score(y_train, dummy_yhat, average='weighted'))\n",
    "print(accuracy_score(y_train, dummy_yhat))"
   ]
  },
  {
   "cell_type": "code",
   "execution_count": 112,
   "metadata": {},
   "outputs": [
    {
     "name": "stdout",
     "output_type": "stream",
     "text": [
      "                                    precision    recall  f1-score   support\n",
      "\n",
      "                  Negative emotion       0.00      0.00      0.00       381\n",
      "No emotion toward brand or product       0.60      1.00      0.75      3776\n",
      "                  Positive emotion       0.00      0.00      0.00      2098\n",
      "\n",
      "                          accuracy                           0.60      6255\n",
      "                         macro avg       0.20      0.33      0.25      6255\n",
      "                      weighted avg       0.36      0.60      0.45      6255\n",
      "\n"
     ]
    },
    {
     "name": "stderr",
     "output_type": "stream",
     "text": [
      "/Users/tom/opt/anaconda3/envs/learn-env/lib/python3.8/site-packages/sklearn/metrics/_classification.py:1221: UndefinedMetricWarning: Precision and F-score are ill-defined and being set to 0.0 in labels with no predicted samples. Use `zero_division` parameter to control this behavior.\n",
      "  _warn_prf(average, modifier, msg_start, len(result))\n"
     ]
    }
   ],
   "source": [
    "print(classification_report(y_train, dummy_yhat))"
   ]
  },
  {
   "cell_type": "code",
   "execution_count": 113,
   "metadata": {},
   "outputs": [
    {
     "name": "stderr",
     "output_type": "stream",
     "text": [
      "/Users/tom/opt/anaconda3/envs/learn-env/lib/python3.8/site-packages/sklearn/metrics/_classification.py:1221: UndefinedMetricWarning: Precision is ill-defined and being set to 0.0 in labels with no predicted samples. Use `zero_division` parameter to control this behavior.\n",
      "  _warn_prf(average, modifier, msg_start, len(result))\n"
     ]
    },
    {
     "name": "stdout",
     "output_type": "stream",
     "text": [
      "Mean precision score:  {0.36442609301847095} .\n",
      "Median precision score:  {0.3642329941003232} .\n",
      "Standard Deviation in precision score:  {0.00038619783629532104} .\n",
      "None\n",
      "Mean Accuracy Score:  0.6036770583533173 .\n"
     ]
    }
   ],
   "source": [
    "# Obtained cross-validated score\n",
    "print(cross_val(dummy_pipe, X_train, y_train, multi_prec))\n",
    "\n",
    "acc_score = cross_val_score(dummy_pipe, X_train, y_train, scoring='accuracy').mean()\n",
    "print(f'Mean Accuracy Score:  {acc_score} .')"
   ]
  },
  {
   "cell_type": "markdown",
   "metadata": {},
   "source": [
    "### FSM - Logistic Regression"
   ]
  },
  {
   "cell_type": "code",
   "execution_count": 114,
   "metadata": {},
   "outputs": [
    {
     "data": {
      "text/plain": [
       "0.863048942531813"
      ]
     },
     "execution_count": 114,
     "metadata": {},
     "output_type": "execute_result"
    },
    {
     "data": {
      "image/png": "[encoded data removed]",
      "text/plain": [
       "<Figure size 432x288 with 2 Axes>"
      ]
     },
     "metadata": {
      "needs_background": "light"
     },
     "output_type": "display_data"
    }
   ],
   "source": [
    "# Instantiate the Logistic Regression Pipeline\n",
    "logreg_pipe = ImPipeline(steps=[\n",
    "                                 ('vect', TfidfVectorizer(max_features=max_features)),\n",
    "                                 ('sm', SMOTE(random_state=42)),\n",
    "                                 ('lr', LogisticRegression(max_iter=1000))\n",
    "                                ]\n",
    "                        )\n",
    "\n",
    "\n",
    "# Fit Logistic Regression pipeline on the training data, get predictions and plot confusion matrix\n",
    "logreg_pipe.fit(X_train, y_train)\n",
    "logreg_y_hat = logreg_pipe.predict(X_train)\n",
    "plot_confusion_matrix(logreg_pipe, X_train, y_train)\n",
    "precision_score(y_train, logreg_y_hat, average='weighted')"
   ]
  },
  {
   "cell_type": "code",
   "execution_count": 115,
   "metadata": {},
   "outputs": [
    {
     "name": "stdout",
     "output_type": "stream",
     "text": [
      "Mean precision score:  {0.6598273681571802} .\n",
      "Median precision score:  {0.6541371761646035} .\n",
      "Standard Deviation in precision score:  {0.016752727707866726} .\n"
     ]
    }
   ],
   "source": [
    "# Obtained cross-validated score\n",
    "cross_val(logreg_pipe, X_train, y_train, multi_prec)"
   ]
  },
  {
   "cell_type": "code",
   "execution_count": 116,
   "metadata": {},
   "outputs": [
    {
     "name": "stdout",
     "output_type": "stream",
     "text": [
      "Mean Accuracy Score:  0.649400479616307 .\n"
     ]
    }
   ],
   "source": [
    "acc_score = cross_val_score(logreg_pipe, X_train, y_train, scoring='accuracy').mean()\n",
    "print(f'Mean Accuracy Score:  {acc_score} .')"
   ]
  },
  {
   "cell_type": "markdown",
   "metadata": {},
   "source": [
    "### Multinomial Naive Bayes"
   ]
  },
  {
   "cell_type": "code",
   "execution_count": 117,
   "metadata": {},
   "outputs": [],
   "source": [
    "# Instantiate the MNB Pipeline\n",
    "mnb_pipe = ImPipeline(steps=[\n",
    "                                 ('vect', TfidfVectorizer(max_features=max_features)),\n",
    "                                 ('sm', SMOTE(random_state=42)),\n",
    "                                 ('mnb', MultinomialNB())\n",
    "                                ]\n",
    "                        )"
   ]
  },
  {
   "cell_type": "code",
   "execution_count": 118,
   "metadata": {},
   "outputs": [
    {
     "data": {
      "text/plain": [
       "0.8268628948035088"
      ]
     },
     "execution_count": 118,
     "metadata": {},
     "output_type": "execute_result"
    },
    {
     "data": {
      "image/png": "[encoded data removed]",
      "text/plain": [
       "<Figure size 432x288 with 2 Axes>"
      ]
     },
     "metadata": {
      "needs_background": "light"
     },
     "output_type": "display_data"
    }
   ],
   "source": [
    "# Fit Multinomial Naive Bayes pipe on the training data, get predictions and plot confusion matrix\n",
    "mnb_pipe.fit(X_train, y_train)\n",
    "mnb_y_hat = mnb_pipe.predict(X_train)\n",
    "plot_confusion_matrix(mnb_pipe, X_train, y_train)\n",
    "precision_score(y_train, mnb_y_hat, average='weighted')"
   ]
  },
  {
   "cell_type": "code",
   "execution_count": 119,
   "metadata": {},
   "outputs": [
    {
     "name": "stdout",
     "output_type": "stream",
     "text": [
      "                                    precision    recall  f1-score   support\n",
      "\n",
      "                  Negative emotion       0.48      0.97      0.64       381\n",
      "No emotion toward brand or product       0.92      0.75      0.82      3776\n",
      "                  Positive emotion       0.73      0.83      0.78      2098\n",
      "\n",
      "                          accuracy                           0.79      6255\n",
      "                         macro avg       0.71      0.85      0.75      6255\n",
      "                      weighted avg       0.83      0.79      0.80      6255\n",
      "\n"
     ]
    }
   ],
   "source": [
    "print(classification_report(y_train, mnb_y_hat))"
   ]
  },
  {
   "cell_type": "code",
   "execution_count": 120,
   "metadata": {},
   "outputs": [
    {
     "name": "stdout",
     "output_type": "stream",
     "text": [
      "Mean precision score:  {0.6526116571176518} .\n",
      "Median precision score:  {0.6475462848350548} .\n",
      "Standard Deviation in precision score:  {0.012925151653691446} .\n",
      "None\n",
      "Mean Accuracy Score:  0.597761790567546 .\n"
     ]
    }
   ],
   "source": [
    "# Obtained cross-validated score\n",
    "print(cross_val(mnb_pipe, X_train, y_train, multi_prec))\n",
    "\n",
    "acc_score = cross_val_score(mnb_pipe, X_train, y_train, scoring='accuracy').mean()\n",
    "print(f'Mean Accuracy Score:  {acc_score} .')"
   ]
  },
  {
   "cell_type": "markdown",
   "metadata": {},
   "source": [
    "### Linear Support Vector"
   ]
  },
  {
   "cell_type": "code",
   "execution_count": 121,
   "metadata": {},
   "outputs": [],
   "source": [
    "# Instantiate Linear Support Vector Pipeline\n",
    "lsv_pipe = ImPipeline(steps=[\n",
    "                                 ('vect', TfidfVectorizer(max_features=max_features)),\n",
    "                                 ('sm', SMOTE(random_state=42)),\n",
    "                                 ('lsv', SGDClassifier(random_state=42))\n",
    "                                ]\n",
    "                        )"
   ]
  },
  {
   "cell_type": "code",
   "execution_count": 122,
   "metadata": {},
   "outputs": [
    {
     "data": {
      "text/plain": [
       "0.868893969908916"
      ]
     },
     "execution_count": 122,
     "metadata": {},
     "output_type": "execute_result"
    },
    {
     "data": {
      "image/png": "[encoded data removed]",
      "text/plain": [
       "<Figure size 432x288 with 2 Axes>"
      ]
     },
     "metadata": {
      "needs_background": "light"
     },
     "output_type": "display_data"
    }
   ],
   "source": [
    "# Fit linear support vector machine on the training data, get predictions and plot confusion matrix\n",
    "lsv_pipe.fit(X_train, y_train)\n",
    "lsv_y_hat = lsv_pipe.predict(X_train)\n",
    "plot_confusion_matrix(lsv_pipe, X_train, y_train)\n",
    "precision_score(y_train, lsv_y_hat, average='weighted')"
   ]
  },
  {
   "cell_type": "code",
   "execution_count": 123,
   "metadata": {},
   "outputs": [],
   "source": [
    "# Obtained cross-validated score\n",
    "#cross_val(lsv_pipe, X_train, y_train, multi_prec)"
   ]
  },
  {
   "cell_type": "code",
   "execution_count": 124,
   "metadata": {},
   "outputs": [
    {
     "name": "stdout",
     "output_type": "stream",
     "text": [
      "Mean Accuracy Score:  0.6500399680255796 .\n"
     ]
    }
   ],
   "source": [
    "acc_score = cross_val_score(lsv_pipe, X_train, y_train, scoring='accuracy').mean()\n",
    "print(f'Mean Accuracy Score:  {acc_score} .')"
   ]
  },
  {
   "cell_type": "markdown",
   "metadata": {},
   "source": [
    "### K-Nearest Neighbors"
   ]
  },
  {
   "cell_type": "code",
   "execution_count": 125,
   "metadata": {},
   "outputs": [],
   "source": [
    "# Instantiate K-Nearest Neighbors pipeline\n",
    "knn_pipe = ImPipeline(steps=[\n",
    "                                 ('vect', TfidfVectorizer(max_features=max_features)),\n",
    "                                 ('sm', SMOTE(random_state=42)),\n",
    "                                 ('knn', KNeighborsClassifier())  \n",
    "                                ]\n",
    "                        )"
   ]
  },
  {
   "cell_type": "code",
   "execution_count": 126,
   "metadata": {},
   "outputs": [
    {
     "data": {
      "text/plain": [
       "0.7914757966929974"
      ]
     },
     "execution_count": 126,
     "metadata": {},
     "output_type": "execute_result"
    },
    {
     "data": {
      "image/png": "[encoded data removed]",
      "text/plain": [
       "<Figure size 432x288 with 2 Axes>"
      ]
     },
     "metadata": {
      "needs_background": "light"
     },
     "output_type": "display_data"
    }
   ],
   "source": [
    "# Fit KNN pipeline on the training data, get predictions and plot confusion matrix\n",
    "knn_pipe.fit(X_train, y_train)\n",
    "knn_yhat = knn_pipe.predict(X_train)\n",
    "plot_confusion_matrix(knn_pipe, X_train, y_train)\n",
    "precision_score(y_train, knn_yhat, average='weighted') "
   ]
  },
  {
   "cell_type": "code",
   "execution_count": 127,
   "metadata": {},
   "outputs": [],
   "source": [
    "# Obtained cross-validated score\n",
    "#cross_val(knn_pipe, X_train, y_train, multi_prec)"
   ]
  },
  {
   "cell_type": "code",
   "execution_count": 128,
   "metadata": {},
   "outputs": [
    {
     "name": "stdout",
     "output_type": "stream",
     "text": [
      "Mean Accuracy Score:  0.5507593924860112 .\n"
     ]
    }
   ],
   "source": [
    "acc_score = cross_val_score(knn_pipe, X_train, y_train, scoring='accuracy').mean()\n",
    "print(f'Mean Accuracy Score:  {acc_score} .')"
   ]
  },
  {
   "cell_type": "markdown",
   "metadata": {},
   "source": [
    "### Gradient Boosted Classifier"
   ]
  },
  {
   "cell_type": "code",
   "execution_count": 129,
   "metadata": {},
   "outputs": [],
   "source": [
    "# Instantiate the pipeline\n",
    "gbc_pipe = ImPipeline(steps=[\n",
    "                                 ('vect', TfidfVectorizer(max_features=max_features)),\n",
    "                                 ('sm', SMOTE(random_state=42)),\n",
    "                                 ('gbc',  GradientBoostingClassifier())\n",
    "                                ]\n",
    "                        )"
   ]
  },
  {
   "cell_type": "code",
   "execution_count": 130,
   "metadata": {},
   "outputs": [
    {
     "data": {
      "text/plain": [
       "0.7121991854079679"
      ]
     },
     "execution_count": 130,
     "metadata": {},
     "output_type": "execute_result"
    },
    {
     "data": {
      "image/png": "[encoded data removed]",
      "text/plain": [
       "<Figure size 432x288 with 2 Axes>"
      ]
     },
     "metadata": {
      "needs_background": "light"
     },
     "output_type": "display_data"
    }
   ],
   "source": [
    "# Fit gradient boosted pipeline on the training data, get predictions and plot confusion matrix\n",
    "gbc_pipe.fit(X_train, y_train)\n",
    "gbc_yhat = gbc_pipe.predict(X_train)\n",
    "plot_confusion_matrix(gbc_pipe, X_train, y_train)\n",
    "precision_score(y_train, gbc_yhat, average='weighted') "
   ]
  },
  {
   "cell_type": "code",
   "execution_count": 131,
   "metadata": {},
   "outputs": [],
   "source": [
    "# Obtained cross-validated score\n",
    "#cross_val(gbc_pipe, X_train, y_train, multi_prec)"
   ]
  },
  {
   "cell_type": "code",
   "execution_count": 132,
   "metadata": {},
   "outputs": [
    {
     "name": "stdout",
     "output_type": "stream",
     "text": [
      "Mean Accuracy Score:  0.6455635491606714 .\n"
     ]
    }
   ],
   "source": [
    "acc_score = cross_val_score(gbc_pipe, X_train, y_train, scoring='accuracy').mean()\n",
    "print(f'Mean Accuracy Score:  {acc_score} .')"
   ]
  },
  {
   "cell_type": "code",
   "execution_count": null,
   "metadata": {},
   "outputs": [],
   "source": []
  },
  {
   "cell_type": "markdown",
   "metadata": {},
   "source": [
    "### RF Classifier"
   ]
  },
  {
   "cell_type": "code",
   "execution_count": 133,
   "metadata": {},
   "outputs": [],
   "source": [
    "# Instantiate Random Forest pipeline\n",
    "rf_pipe = ImPipeline(steps=[\n",
    "                                 ('vect', TfidfVectorizer(max_features=max_features)),\n",
    "                                 ('sm', SMOTE(random_state=42)),\n",
    "                                 ('rf', RandomForestClassifier(\n",
    "                                 #    bootstrap= True,\n",
    "                                 #    criterion='gini',\n",
    "                                 #    max_depth=200,\n",
    "                                 #    min_samples_leaf=1,\n",
    "                                 #    min_samples_split=5,\n",
    "                                 #    n_estimators=250,\n",
    "                                     random_state=42))\n",
    "                                ]\n",
    "                        )"
   ]
  },
  {
   "cell_type": "code",
   "execution_count": 134,
   "metadata": {},
   "outputs": [
    {
     "data": {
      "text/plain": [
       "0.9627596666975123"
      ]
     },
     "execution_count": 134,
     "metadata": {},
     "output_type": "execute_result"
    },
    {
     "data": {
      "image/png": "[encoded data removed]",
      "text/plain": [
       "<Figure size 432x288 with 2 Axes>"
      ]
     },
     "metadata": {
      "needs_background": "light"
     },
     "output_type": "display_data"
    }
   ],
   "source": [
    "# Fit random forest pipeline on the training data, get predictions and plot confusion matrix\n",
    "rf_pipe.fit(X_train, y_train)\n",
    "rfp_yhat = rf_pipe.predict(X_train)\n",
    "plot_confusion_matrix(rf_pipe, X_train, y_train)\n",
    "precision_score(y_train, rfp_yhat, average='weighted') "
   ]
  },
  {
   "cell_type": "code",
   "execution_count": 135,
   "metadata": {},
   "outputs": [
    {
     "name": "stdout",
     "output_type": "stream",
     "text": [
      "                                    precision    recall  f1-score   support\n",
      "\n",
      "                  Negative emotion       0.94      0.98      0.96       381\n",
      "No emotion toward brand or product       0.97      0.97      0.97      3776\n",
      "                  Positive emotion       0.96      0.94      0.95      2098\n",
      "\n",
      "                          accuracy                           0.96      6255\n",
      "                         macro avg       0.96      0.97      0.96      6255\n",
      "                      weighted avg       0.96      0.96      0.96      6255\n",
      "\n"
     ]
    }
   ],
   "source": [
    "print(classification_report(y_train, rfp_yhat))"
   ]
  },
  {
   "cell_type": "code",
   "execution_count": 136,
   "metadata": {},
   "outputs": [],
   "source": [
    "# Obtained cross-validated score\n",
    "# cross_val(rf_pipe, X_train, y_train, multi_prec)"
   ]
  },
  {
   "cell_type": "code",
   "execution_count": 137,
   "metadata": {},
   "outputs": [
    {
     "name": "stdout",
     "output_type": "stream",
     "text": [
      "Mean Accuracy Score:  0.6740207833733013 .\n"
     ]
    }
   ],
   "source": [
    "acc_score = cross_val_score(rf_pipe, X_train, y_train, scoring='accuracy').mean()\n",
    "print(f'Mean Accuracy Score:  {acc_score} .')"
   ]
  },
  {
   "cell_type": "code",
   "execution_count": null,
   "metadata": {},
   "outputs": [],
   "source": []
  },
  {
   "cell_type": "markdown",
   "metadata": {},
   "source": [
    "#### Gridsearch--Random Forest"
   ]
  },
  {
   "cell_type": "code",
   "execution_count": 138,
   "metadata": {},
   "outputs": [
    {
     "name": "stdout",
     "output_type": "stream",
     "text": [
      "Current Parameters:\n",
      "\n",
      "{'bootstrap': True,\n",
      " 'ccp_alpha': 0.0,\n",
      " 'class_weight': None,\n",
      " 'criterion': 'gini',\n",
      " 'max_depth': None,\n",
      " 'max_features': 'auto',\n",
      " 'max_leaf_nodes': None,\n",
      " 'max_samples': None,\n",
      " 'min_impurity_decrease': 0.0,\n",
      " 'min_impurity_split': None,\n",
      " 'min_samples_leaf': 1,\n",
      " 'min_samples_split': 2,\n",
      " 'min_weight_fraction_leaf': 0.0,\n",
      " 'n_estimators': 100,\n",
      " 'n_jobs': None,\n",
      " 'oob_score': False,\n",
      " 'random_state': 42,\n",
      " 'verbose': 0,\n",
      " 'warm_start': False}\n"
     ]
    }
   ],
   "source": [
    "# Print out original parameters of rf classifier in rf_pipe\n",
    "print('Current Parameters:\\n')\n",
    "pprint(rf_pipe.named_steps['rf'].get_params())"
   ]
  },
  {
   "cell_type": "code",
   "execution_count": 139,
   "metadata": {},
   "outputs": [],
   "source": [
    "# Define new set of parameters to grid-search over\n",
    "rf_params = {\n",
    "            'rf__n_estimators': [100, 250, 500, 1000],\n",
    "            'rf__criterion': ['gini', 'entropy'],\n",
    "            'rf__min_samples_leaf': [1, 2, 3],\n",
    "            'rf__min_samples_split': [2, 4, 5, 6],\n",
    "            'rf__max_depth': [100, 200, 300],\n",
    "            'rf__bootstrap': [True, False],\n",
    "            'vect__max_features': [None, 2000, 4000, 5000, 6000, 7000]\n",
    "             }\n",
    "\n",
    "# Instantiate grid search object using parameters defined above.\n",
    "#rf_gs = GridSearchCV(rf_pipe, param_grid=rf_params, n_jobs=-2, verbose=3, cv=3)\n",
    "\n",
    "# Fit the grid search object on training data\n",
    "#rf_gs.fit(X_train, y_train)\n",
    "\n",
    "# Output the best parameters based on the grid search\n",
    "#rf_gs.best_params_"
   ]
  },
  {
   "cell_type": "markdown",
   "metadata": {},
   "source": [
    "gridsearch 1 output: \n",
    "- {'rf__bootstrap': True,\n",
    "- 'rf__criterion': 'entropy',\n",
    "- 'rf__max_depth': None,\n",
    "- 'rf__min_samples_leaf': 1,\n",
    "- 'rf__min_samples_split': 5,\n",
    "- 'rf__n_estimators': 250,\n",
    "- 'vect__max_features': None}"
   ]
  },
  {
   "cell_type": "markdown",
   "metadata": {},
   "source": [
    "rf_params = {\n",
    "            'rf__n_estimators': [200, 250, 300],\n",
    "            'rf__criterion': ['gini', 'entropy'],\n",
    "            'rf__min_samples_leaf': [1, 2],\n",
    "            'rf__min_samples_split': [4, 5, 6],\n",
    "            'rf__max_depth': [None, 100, 150, 200],\n",
    "            'rf__bootstrap': [True, False],\n",
    "            'vect__max_features': [None, 6000, 8000]\n",
    "             }\n",
    "\n",
    "grid search 2 output:\n",
    "- {'rf__bootstrap': True,\n",
    "- 'rf__criterion': 'gini',\n",
    "- 'rf__max_depth': 200,\n",
    "- 'rf__min_samples_leaf': 1,\n",
    "- 'rf__min_samples_split': 6,\n",
    "- 'rf__n_estimators': 250,\n",
    "- 'vect__max_features': 6000}s"
   ]
  },
  {
   "cell_type": "markdown",
   "metadata": {},
   "source": [
    "rf_params = {\n",
    "            'rf__n_estimators': [225, 250, 275],\n",
    "            'rf__criterion': ['gini', 'entropy'],\n",
    "            'rf__min_samples_leaf': [1, 2],\n",
    "            'rf__min_samples_split': [5, 6, 7],\n",
    "            'rf__max_depth': [150, 200, 300],\n",
    "            'rf__bootstrap': [True, False],\n",
    "            'vect__max_features': [5000, 6000, 7000]\n",
    "             }\n",
    "\n",
    "grid search 3 output:\n",
    "- {'rf__bootstrap': True,\n",
    "- 'rf__criterion': 'gini',\n",
    "- 'rf__max_depth': 200,\n",
    "- 'rf__min_samples_leaf': 1,\n",
    "- 'rf__min_samples_split': 5,\n",
    "- 'rf__n_estimators': 250,\n",
    "- 'vect__max_features': 5000}"
   ]
  },
  {
   "cell_type": "markdown",
   "metadata": {},
   "source": [
    "rf_params = {\n",
    "            'rf__n_estimators': [240, 250, 260],\n",
    "            'rf__criterion': ['gini', 'entropy'],\n",
    "            'rf__min_samples_leaf': [1, 2],\n",
    "            'rf__min_samples_split': [4, 5, 6],\n",
    "            'rf__max_depth': [190, 200, 210],\n",
    "            'rf__bootstrap': [True, False],\n",
    "            'vect__max_features': [None, 4500, 5000, 5500, 6000]\n",
    "             }\n",
    "\n",
    "grid search 4 output:\n",
    "- {'rf__bootstrap': True,\n",
    "- 'rf__criterion': 'gini',\n",
    "- 'rf__max_depth': 200,\n",
    "- 'rf__min_samples_leaf': 1,\n",
    "- 'rf__min_samples_split': 5,\n",
    "- 'rf__n_estimators': 250,\n",
    "- 'vect__max_features': 5000}"
   ]
  },
  {
   "cell_type": "markdown",
   "metadata": {},
   "source": [
    "rf_params = {\n",
    "            'rf__n_estimators': [100, 250, 500, 1000],\n",
    "            'rf__criterion': ['gini', 'entropy'],\n",
    "            'rf__min_samples_leaf': [1, 2, 3],\n",
    "            'rf__min_samples_split': [2, 4, 5, 6],\n",
    "            'rf__max_depth': [100, 200, 300],\n",
    "            'rf__bootstrap': [True, False],\n",
    "            'vect__max_features': [None, 2000, 4000, 5000, 6000, 7000]\n",
    "             }\n",
    "\n",
    "\n",
    "grid search 5 output:\n",
    "    {'rf__bootstrap': True,\n",
    " 'rf__criterion': 'gini',\n",
    " 'rf__max_depth': 200,\n",
    " 'rf__min_samples_leaf': 1,\n",
    " 'rf__min_samples_split': 5,\n",
    " 'rf__n_estimators': 250,\n",
    " 'vect__max_features': 5000}"
   ]
  },
  {
   "cell_type": "markdown",
   "metadata": {},
   "source": [
    "# Final Model & Evaluation"
   ]
  },
  {
   "cell_type": "code",
   "execution_count": 145,
   "metadata": {},
   "outputs": [
    {
     "data": {
      "image/png": "[encoded data removed]",
      "text/plain": [
       "<Figure size 720x720 with 1 Axes>"
      ]
     },
     "metadata": {
      "needs_background": "light"
     },
     "output_type": "display_data"
    }
   ],
   "source": [
    "# Create dictionary of models and cross-val scores\n",
    "model_its = {'Dummy Classifier':0.604, 'Logistic Regression':0.649, 'MNB':0.598, 'LSV': 0.65, 'KNN':0.551, 'Gradient Boosted':0.646, 'Tuned Random Forest':0.674}\n",
    "\n",
    "# Plot bar graph using model_its dictionary\n",
    "plt.rcParams.update({'font.size': 13});\n",
    "colors = [\"C1\" if i > 0.66 else 'C0' for i in model_its.values()]\n",
    "fig, ax = plt.subplots(figsize=(10,10))\n",
    "pps = plt.bar(x = model_its.keys(), height=model_its.values(), color=colors)\n",
    "\n",
    "plt.xlabel('Model Type')\n",
    "plt.ylabel('Mean Accuracy Score')\n",
    "plt.title('Model Performance Progression')\n",
    "plt.xticks(rotation = 45)\n",
    "plt.yticks(np.arange(0, 1.1, step=0.1))\n",
    "\n",
    "# Assign score values to each bar in the graph\n",
    "for p in pps:\n",
    "   height = p.get_height()\n",
    "   ax.annotate('{}'.format(height),\n",
    "      xy=(p.get_x() + p.get_width() / 2, height),\n",
    "      xytext=(0, 5), # 3 points vertical offset\n",
    "      textcoords=\"offset points\",  \n",
    "      ha='center', va='bottom')\n",
    "plt.tight_layout();\n",
    "\n",
    "plt.savefig('../images/mod_perf', facecolor='white', dpi=500)"
   ]
  },
  {
   "cell_type": "markdown",
   "metadata": {},
   "source": [
    "# Conclusion & Next Steps\n",
    "\n",
    "\n",
    "Given additional time and resources, we would like to explore the following additional avenues:\n",
    "- Deploy pre-trained NLP model & train on the data set\n",
    "- Increase the size of the dataset to include tweets regarding other brands of mobile device or application\n",
    "- Develop a data pipeline to intake all new tweets that mention the company over a given time period and continue training the model on new data. New tweets are introduced quite frequently while the company’s release schedule is sporadic. We will gain additional insight by adding new training data to the dataset.\n"
   ]
  },
  {
   "cell_type": "markdown",
   "metadata": {},
   "source": [
    "# Recommendations"
   ]
  }
 ],
 "metadata": {
  "kernelspec": {
   "display_name": "Python (learn-env-new)",
   "language": "python",
   "name": "learn-env"
  },
  "language_info": {
   "codemirror_mode": {
    "name": "ipython",
    "version": 3
   },
   "file_extension": ".py",
   "mimetype": "text/x-python",
   "name": "python",
   "nbconvert_exporter": "python",
   "pygments_lexer": "ipython3",
   "version": "3.8.5"
  }
 },
 "nbformat": 4,
 "nbformat_minor": 4
}
